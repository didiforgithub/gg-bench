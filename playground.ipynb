{
 "cells": [
  {
   "cell_type": "code",
   "execution_count": 3,
   "metadata": {},
   "outputs": [],
   "source": [
    "import json\n",
    "\n",
    "file_path1 = \"/home/nickatomlin/vivek/agi-bench/results/eval_20241004_031100.json\"\n",
    "file_path2 = \"/home/nickatomlin/vivek/agi-bench/results/eval_20241004_050419.json\"\n",
    "file_path3 = \"/home/nickatomlin/vivek/agi-bench/results/eval_20241004_173446.json\""
   ]
  },
  {
   "cell_type": "code",
   "execution_count": 4,
   "metadata": {},
   "outputs": [],
   "source": [
    "def compute_statistics(file_path):\n",
    "    with open(file_path, \"r\") as f:\n",
    "        data = json.load(f)\n",
    "    \n",
    "    gpt_wins, other = 0, 0\n",
    "    counter = 0\n",
    "    for i in data:\n",
    "        if i.isnumeric():\n",
    "            successful = data[i][\"gpt_wins\"] + data[i][\"agent_wins\"] + data[i][\"draws\"]\n",
    "            if successful > 0.75 * data[i][\"total_games\"]:\n",
    "                gpt_wins += data[i][\"gpt_wins\"]\n",
    "                other += data[i][\"agent_wins\"] + data[i][\"draws\"]\n",
    "                counter += 1\n",
    "\n",
    "    gpt_win_rate = gpt_wins / (gpt_wins + other) if (gpt_wins + other) > 0 else 0\n",
    "\n",
    "    print(f\"GPT Wins: {gpt_wins}\")\n",
    "    print(f\"Other Wins: {other}\")\n",
    "    print(f\"Total Games: {counter}\")\n",
    "    print(f\"GPT Win Rate: {gpt_win_rate:.2%}\")"
   ]
  },
  {
   "cell_type": "code",
   "execution_count": 5,
   "metadata": {},
   "outputs": [
    {
     "name": "stdout",
     "output_type": "stream",
     "text": [
      "GPT Wins: 60\n",
      "Other Wins: 350\n",
      "Total Games: 41\n",
      "GPT Win Rate: 14.63%\n"
     ]
    }
   ],
   "source": [
    "compute_statistics(file_path1)"
   ]
  },
  {
   "cell_type": "code",
   "execution_count": 6,
   "metadata": {},
   "outputs": [
    {
     "name": "stdout",
     "output_type": "stream",
     "text": [
      "GPT Wins: 53\n",
      "Other Wins: 384\n",
      "Total Games: 44\n",
      "GPT Win Rate: 12.13%\n"
     ]
    }
   ],
   "source": [
    "compute_statistics(file_path2)"
   ]
  },
  {
   "cell_type": "code",
   "execution_count": 7,
   "metadata": {},
   "outputs": [
    {
     "name": "stdout",
     "output_type": "stream",
     "text": [
      "GPT Wins: 72\n",
      "Other Wins: 336\n",
      "Total Games: 41\n",
      "GPT Win Rate: 17.65%\n"
     ]
    }
   ],
   "source": [
    "compute_statistics(file_path3)"
   ]
  },
  {
   "cell_type": "code",
   "execution_count": 1,
   "metadata": {},
   "outputs": [],
   "source": [
    "from gg_bench.utils.chat_completion import chat_completion\n",
    "import json\n",
    "import random\n",
    "\n",
    "with open(\"gg_bench/data/splits/valid_envs.json\") as f:\n",
    "    data = json.load(f)\n",
    "\n",
    "valid_envs = [int(i[0]) for i in data]\n",
    "\n",
    "prompt = \"{description}\\nWrite a short 2-3 sentence description of what this game is. Give it in the format:\\n\\n{{Game Name}}: {{Summary}}\"\n",
    "summaries = []\n",
    "\n",
    "for i in random.sample(valid_envs, 10):\n",
    "    with open(f\"gg_bench/data/descriptions/{i}.txt\") as f:\n",
    "        description = f.read()\n",
    "    \n",
    "    current_prompt = prompt.format(description=description) \n",
    "    summaries.append(chat_completion(\"o4-mini\", [{\"role\": \"user\", \"content\": current_prompt}]))\n",
    "    "
   ]
  },
  {
   "cell_type": "code",
   "execution_count": 2,
   "metadata": {},
   "outputs": [
    {
     "name": "stdout",
     "output_type": "stream",
     "text": [
      "Description 1: Reach 27: A two-player turn-based game where players alternately add a number from 1 to 9 to a running total, striving to be the one who hits exactly 27. Exceeding 27 on your turn results in an immediate loss, so careful calculation and strategic planning are essential. The first player to reach exactly 27 wins the game.\n",
      "Description 2: Target Sum: A two-player turn-based game where players alternately pick unique numbers from 1 to 10, adding them to their personal total in an attempt to hit exactly 25 without going over. If you exceed 25 you lose immediately, and if all numbers are exhausted with no exact 25, the higher total wins, making both careful calculation and tactical blocking essential.\n",
      "Description 3: Prime War: A two-player turn-based strategy game where players alternately choose unique prime numbers from a shared pool, adding to their cumulative score. The first to reach exactly 50 points wins instantly, while exceeding 50 results in an immediate loss. Skillful planning and denial of key primes are essential to block your opponent and secure victory.\n",
      "Description 4: Digit Duel: A fast-paced two-player card game where players draw digit cards and choose to keep them or pass them to their opponent, aiming to build the highest possible three-digit number. Each hand holds exactly three digits, and strategic decisions about which cards to keep or give off can swing a round. The first player to win two rounds by out-numbering their opponent wins the game.\n",
      "Description 5: Countdown Clash: A two-player turn-based game in which players alternately subtract one of the primes {2, 3, 5, 7} from a shared countdown number. The first player to bring the total exactly to zero wins, and a player who cannot make a valid move loses. Strategic foresight is key—you must choose primes to limit your opponent’s options and force them into a losing position.\n",
      "Description 6: Sequence Builder: A two-player arithmetic game starting from 1 where players take turns adding 1, adding 2, or multiplying by 2 without exceeding a preset target number. The first player to land exactly on the target wins, making strategic planning and control of key positions essential.\n",
      "Description 7: Number Duel: Two players start with 20 Life Points and on each turn draw a number from 1–10, then choose to either deal that much damage to their opponent or heal themselves for half the drawn value (rounded down). The goal is to outmaneuver your opponent by timing attacks and heals to reduce their LP to zero before they do the same to you.\n",
      "Description 8: Light Out Duel: A two-player turn-based game where seven lights start on and players alternately turn off either one light or two adjacent lights. The objective is to be the player who extinguishes the very last light, forcing your opponent into a position with no valid moves. Strategic choices between single and double toggles make for tense endgames and careful planning.\n",
      "Description 9: Factor Duel: A strategic two-player turn-based game in which players alternately pick numbers from 2 to 50, with the restriction that each chosen number cannot be a factor or multiple of any previously selected number. The goal is to leave your opponent with no valid moves, thereby forcing them to lose. Success requires careful number selection and foresight to block your opponent’s options.\n",
      "Description 10: Secret Sum: A five-round, simultaneous-bidding game where each player secretly selects and reveals unique numbers from 1 to 5 to win individual rounds. The player who wins the most rounds is victorious, with total sum of played numbers acting as a tiebreaker (lower sum wins). In the rare event both metrics tie, sudden-death rounds resolve the winner.\n"
     ]
    }
   ],
   "source": [
    "for n, i in enumerate(summaries):\n",
    "    print(f\"Description {n+1}: {i}\") "
   ]
  },
  {
   "cell_type": "markdown",
   "metadata": {},
   "source": [
    "Description 1: Bluff Battle is a strategic two-player card game where each player competes to score the highest points across 15 rounds using a unique set of numbered cards from 1 to 5. Players must carefully select and play their cards while anticipating their opponent's moves, as points are awarded based on the difference in card values. Victory is achieved through skillful card management and psychological tactics, making it a dynamic and engaging gameplay experience.\n",
    "\n",
    "Description 2: **Word Ladder Duel** is a strategic word game where two players take turns transforming a 5-letter word by changing exactly one letter to create a new valid word. The objective is to outlast the opponent by ensuring they cannot find a valid word on their turn, thus making strategic word choices and anticipating potential responses crucial for victory. Gaining lexical knowledge and planning ahead can significantly enhance a player's chances of winning.\n",
    "\n",
    "Description 3: **Subtract Square** is a strategic two-player game where players take turns subtracting perfect square numbers from a starting total to reduce it to exactly zero. The player who makes the last valid move wins the game, requiring careful planning and anticipation of the opponent's moves to secure victory.\n",
    "\n",
    "Description 4: Star Collector is a strategic two-player game where the objective is to collect the last star from a central pool of 21 stars. Players take turns collecting between 1 to 4 stars, with the challenge of forcing their opponent into a position that guarantees their own victory. Success relies on foresight and tactical play to control the number of stars remaining and ultimately claim the final star.\n",
    "\n",
    "Description 5: **Token Nimble** is a strategic two-player game where players take turns removing tokens from three distinct rows, with the objective of being the last to remove a token from the board. Players must carefully choose how many tokens to remove from a single row during their turn, with the ultimate goal of leaving their opponent with no moves left. The simplicity of the rules combined with strategic depth creates an engaging challenge for players of all skill levels.\n",
    "\n",
    "Description 6: Duel Masters is a strategic card game where players compete to reduce their opponent's Life Points from 5 to 0 using a combination of Attack, Block, and Counter cards. Each player has a limited hand and must carefully manage their cards, predicting their opponent's moves to effectively defend against attacks or launch their own. The game emphasizes tactical decision-making and strategic resource management for a thrilling duel experience.\n",
    "\n",
    "Description 7: Alphabet War is a competitive word game where two players take turns forming valid English words to claim unclaimed letters from the alphabet. The objective is to strategically use words to accumulate 14 or more letters, thereby gaining majority control of the alphabet and winning the game. Players must carefully navigate letter claims and word validity while blocking their opponent’s progress.\n",
    "\n",
    "Description 8: \"Reach Twenty\" is a two-player number game where the objective is to be the first to reach exactly 20 by adding integers from 1 to 3 to a running total that starts at 0. Players take turns selecting numbers while adhering to rules preventing them from exceeding the target total, resulting in strategic gameplay that emphasizes foresight and optimal moves. With simple mechanics and quick rounds, it offers a fun and engaging challenge for casual and competitive players alike.\n",
    "\n",
    "Description 9: Zero Sum is a two-player strategic game where players take turns subtracting between 1 to 4 from a shared number, starting at 21, with the goal of reaching exactly zero first. Players must outmaneuver each other by controlling key totals and anticipating their opponent's moves, making it a quick yet engaging challenge that tests arithmetic skills and strategic thinking. With straightforward rules and fast-paced gameplay, it delivers competitive fun in a simple command-line format.\n",
    "\n",
    "Description 10: **Stone Piles** is a strategic two-player turn-based game where players take turns removing stones from one of three piles, with the objective of avoiding leaving their opponent in a position to win. The game combines elements of foresight and strategy, as players must outmaneuver each other to be the one to remove the last stone. With simple rules and engaging gameplay, it offers a competitive challenge for players of all skill levels."
   ]
  },
  {
   "cell_type": "markdown",
   "metadata": {},
   "source": []
  },
  {
   "cell_type": "code",
   "execution_count": 10,
   "metadata": {},
   "outputs": [
    {
     "ename": "ModuleNotFoundError",
     "evalue": "No module named 'utils.load_yaml'",
     "output_type": "error",
     "traceback": [
      "\u001b[0;31m---------------------------------------------------------------------------\u001b[0m",
      "\u001b[0;31mModuleNotFoundError\u001b[0m                       Traceback (most recent call last)",
      "Cell \u001b[0;32mIn[10], line 2\u001b[0m\n\u001b[1;32m      1\u001b[0m \u001b[38;5;28;01mimport\u001b[39;00m \u001b[38;5;21;01mopenai\u001b[39;00m\n\u001b[0;32m----> 2\u001b[0m \u001b[38;5;28;01mfrom\u001b[39;00m \u001b[38;5;21;01mutils\u001b[39;00m\u001b[38;5;21;01m.\u001b[39;00m\u001b[38;5;21;01mload_yaml\u001b[39;00m \u001b[38;5;28;01mimport\u001b[39;00m load_yaml\n\u001b[1;32m      4\u001b[0m openai\u001b[38;5;241m.\u001b[39mapi_key \u001b[38;5;241m=\u001b[39m load_yaml(\u001b[38;5;124m\"\u001b[39m\u001b[38;5;124mopenai_config.yaml\u001b[39m\u001b[38;5;124m\"\u001b[39m)[\u001b[38;5;124m\"\u001b[39m\u001b[38;5;124mapi_key\u001b[39m\u001b[38;5;124m\"\u001b[39m]\n",
      "\u001b[0;31mModuleNotFoundError\u001b[0m: No module named 'utils.load_yaml'"
     ]
    }
   ],
   "source": [
    "import openai\n",
    "from utils.load_yaml import load_yaml\n",
    "\n",
    "openai.api_key = load_yaml(\"openai_config.yaml\")[\"api_key\"]"
   ]
  },
  {
   "cell_type": "code",
   "execution_count": null,
   "metadata": {},
   "outputs": [],
   "source": [
    "response = openai.chat.completions.create(\n",
    "    model=\"gpt-4o-mini\",\n",
    "    messages=[\n",
    "        {\"role\": \"user\", \"content\": \"What is the capital of the United States?\"},\n",
    "    ],\n",
    ")"
   ]
  },
  {
   "cell_type": "code",
   "execution_count": 12,
   "metadata": {},
   "outputs": [
    {
     "name": "stdout",
     "output_type": "stream",
     "text": [
      "CompletionUsage(completion_tokens=12, prompt_tokens=16, total_tokens=28, prompt_tokens_details={'cached_tokens': 0}, completion_tokens_details={'reasoning_tokens': 0})\n"
     ]
    }
   ],
   "source": [
    "print(response.usage)"
   ]
  },
  {
   "cell_type": "code",
   "execution_count": null,
   "metadata": {},
   "outputs": [],
   "source": [
    "\n",
    "# file_path = \"/home/nickatomlin/vivek/agi-bench/results/eval_20241117_203351.json\"\n",
    "# file_path = \"results/claude-3.5-sonnet_eval_20250114_084220.json\"\n",
    "# file_path = \"results/gpt-4o_eval_20241130_230118.json\"\n",
    "# file_path = \"results/gpt-4o-mini_eval_20241117_203351.json\"\n",
    "# file_path = \"results/llama-3.3-70b_eval_together.json\"\n",
    "import json\n",
    "\n",
    "file_path = \"results/gpt-4o-mini_eval_20250304_062621.json\"\n",
    "file_path = \"results/gpt-4o-mini_eval_20250304_204004.json\"\n",
    "file_path = \"results/gpt-4o_eval_20250305_232011.json\"\n",
    "\n",
    "# valid_envs = []\n",
    "\n",
    "# for file in [\"easy\", \"medium\", \"hard\"]:\n",
    "#     with open(f\"gg_bench/data/splits/{file}.json\") as f:\n",
    "#         valid_envs += json.load(f)\n",
    "\n",
    "# print(len(valid_envs))"
   ]
  },
  {
   "cell_type": "code",
   "execution_count": 5,
   "metadata": {},
   "outputs": [],
   "source": [
    "def compute_statistics(\n",
    "    file_path: str,\n",
    "    successful_threshold: float = 0.75,\n",
    "    min_avg_turns: int = 4,\n",
    "    max_avg_turns: int = float(\"inf\"),\n",
    "):\n",
    "    with open(file_path, \"r\") as f:\n",
    "        data = json.load(f)\n",
    "\n",
    "    gpt_wins = agent_wins = draws = 0\n",
    "    gpt_faults = agent_faults = env_faults = 0\n",
    "    counter = 0\n",
    "\n",
    "    for game_idx in data:\n",
    "        game_idx = str(game_idx)\n",
    "        if game_idx not in data:\n",
    "            continue\n",
    "        stats = data[game_idx]\n",
    "        if not game_idx.isnumeric():\n",
    "            continue\n",
    "\n",
    "        if (\n",
    "            stats[\"avg_turns_per_game\"] < min_avg_turns\n",
    "            or stats[\"avg_turns_per_game\"] > max_avg_turns\n",
    "        ):\n",
    "            # gpt_faults += stats[\"gpt_faults\"]\n",
    "            # agent_faults += stats[\"agent_faults\"]\n",
    "            # env_faults += stats[\"env_faults\"]\n",
    "            continue\n",
    "\n",
    "        successful = stats[\"gpt_wins\"] + stats[\"agent_wins\"] + stats[\"draws\"]\n",
    "        if successful < successful_threshold * stats[\"total_games\"]:\n",
    "            # gpt_faults += stats[\"gpt_faults\"]\n",
    "            # agent_faults += stats[\"agent_faults\"]\n",
    "            # env_faults += stats[\"env_faults\"]\n",
    "            continue\n",
    "\n",
    "        gpt_wins += stats[\"gpt_wins\"]\n",
    "        agent_wins += stats[\"agent_wins\"]\n",
    "        draws += stats[\"draws\"]\n",
    "        counter += 1\n",
    "        \n",
    "        gpt_faults += stats[\"gpt_faults\"]\n",
    "        agent_faults += stats[\"agent_faults\"]\n",
    "        env_faults += stats[\"env_faults\"]\n",
    " \n",
    "\n",
    "    gpt_win_rate = (gpt_wins) / (gpt_wins + agent_wins + draws) if (gpt_wins + agent_wins + draws) > 0 else 0\n",
    "\n",
    "    print(f\"GPT Wins: {gpt_wins}\")\n",
    "    print(f\"Agent Wins: {agent_wins}\")\n",
    "    print(f\"Draws: {draws}\")\n",
    "    print(f\"Total Trajectories: {gpt_wins + agent_wins + draws}\")\n",
    "    print(f\"Total Games: {counter}\")\n",
    "    print(f\"GPT Win Rate: {gpt_win_rate:.2%}\")\n",
    "    print(f\"GPT Faults: {gpt_faults}\")\n",
    "    print(f\"Agent Faults: {agent_faults}\")\n",
    "    print(f\"Env Faults: {env_faults}\")"
   ]
  },
  {
   "cell_type": "code",
   "execution_count": 6,
   "metadata": {},
   "outputs": [
    {
     "name": "stdout",
     "output_type": "stream",
     "text": [
      "GPT Wins: 307\n",
      "Agent Wins: 2733\n",
      "Draws: 314\n",
      "Total Trajectories: 3354\n",
      "Total Games: 117\n",
      "GPT Win Rate: 9.15%\n",
      "GPT Faults: 156\n",
      "Agent Faults: 0\n",
      "Env Faults: 0\n",
      "None\n"
     ]
    }
   ],
   "source": [
    "print(\n",
    "    compute_statistics(\n",
    "        file_path, successful_threshold=0, min_avg_turns=0, max_avg_turns=float(\"inf\")\n",
    "    )\n",
    ")"
   ]
  },
  {
   "cell_type": "code",
   "execution_count": null,
   "metadata": {},
   "outputs": [],
   "source": [
    "\n",
    "valid_envs = []\n",
    "\n",
    "for file in [\"easy\", \"medium\", \"hard\"]:\n",
    "    with open(f\"gg_bench/data/splits/{file}.json\") as f:\n",
    "        valid_envs += json.load(f)"
   ]
  },
  {
   "cell_type": "code",
   "execution_count": null,
   "metadata": {},
   "outputs": [],
   "source": [
    "with open(\"gg_bench/data/splits/valid_envs.json\", \"w\") as f:\n",
    "    json.dump(valid_envs, f)"
   ]
  },
  {
   "cell_type": "code",
   "execution_count": null,
   "metadata": {},
   "outputs": [],
   "source": [
    "cmd = \"dolos run -f web\"\n",
    "for env in valid_envs:\n",
    "    cmd += f\" gg_bench/data/envs/env_{env}.py\"\n",
    "\n",
    "with open(\"plag.sh\", \"w\") as f:\n",
    "    f.write(cmd)"
   ]
  },
  {
   "cell_type": "code",
   "execution_count": 4,
   "metadata": {},
   "outputs": [
    {
     "ename": "FileNotFoundError",
     "evalue": "[Errno 2] No such file or directory: 'results/dolos_report/pairs.csv'",
     "output_type": "error",
     "traceback": [
      "\u001b[0;31m---------------------------------------------------------------------------\u001b[0m",
      "\u001b[0;31mFileNotFoundError\u001b[0m                         Traceback (most recent call last)",
      "Cell \u001b[0;32mIn[4], line 6\u001b[0m\n\u001b[1;32m      3\u001b[0m \u001b[38;5;66;03m# Load the csv file\u001b[39;00m\n\u001b[1;32m      4\u001b[0m \u001b[38;5;28;01mimport\u001b[39;00m \u001b[38;5;21;01mpandas\u001b[39;00m \u001b[38;5;28;01mas\u001b[39;00m \u001b[38;5;21;01mpd\u001b[39;00m\n\u001b[0;32m----> 6\u001b[0m df \u001b[38;5;241m=\u001b[39m \u001b[43mpd\u001b[49m\u001b[38;5;241;43m.\u001b[39;49m\u001b[43mread_csv\u001b[49m\u001b[43m(\u001b[49m\u001b[43mcsv_path\u001b[49m\u001b[43m)\u001b[49m\n\u001b[1;32m      8\u001b[0m \u001b[38;5;28;01mimport\u001b[39;00m \u001b[38;5;21;01mmatplotlib\u001b[39;00m\u001b[38;5;21;01m.\u001b[39;00m\u001b[38;5;21;01mpyplot\u001b[39;00m \u001b[38;5;28;01mas\u001b[39;00m \u001b[38;5;21;01mplt\u001b[39;00m\n\u001b[1;32m     10\u001b[0m \u001b[38;5;66;03m# Plot the histogram and print statistics of df[\"similarity\"]\u001b[39;00m\n",
      "File \u001b[0;32m~/sources/conda/envs/agi/lib/python3.11/site-packages/pandas/io/parsers/readers.py:1026\u001b[0m, in \u001b[0;36mread_csv\u001b[0;34m(filepath_or_buffer, sep, delimiter, header, names, index_col, usecols, dtype, engine, converters, true_values, false_values, skipinitialspace, skiprows, skipfooter, nrows, na_values, keep_default_na, na_filter, verbose, skip_blank_lines, parse_dates, infer_datetime_format, keep_date_col, date_parser, date_format, dayfirst, cache_dates, iterator, chunksize, compression, thousands, decimal, lineterminator, quotechar, quoting, doublequote, escapechar, comment, encoding, encoding_errors, dialect, on_bad_lines, delim_whitespace, low_memory, memory_map, float_precision, storage_options, dtype_backend)\u001b[0m\n\u001b[1;32m   1013\u001b[0m kwds_defaults \u001b[38;5;241m=\u001b[39m _refine_defaults_read(\n\u001b[1;32m   1014\u001b[0m     dialect,\n\u001b[1;32m   1015\u001b[0m     delimiter,\n\u001b[0;32m   (...)\u001b[0m\n\u001b[1;32m   1022\u001b[0m     dtype_backend\u001b[38;5;241m=\u001b[39mdtype_backend,\n\u001b[1;32m   1023\u001b[0m )\n\u001b[1;32m   1024\u001b[0m kwds\u001b[38;5;241m.\u001b[39mupdate(kwds_defaults)\n\u001b[0;32m-> 1026\u001b[0m \u001b[38;5;28;01mreturn\u001b[39;00m \u001b[43m_read\u001b[49m\u001b[43m(\u001b[49m\u001b[43mfilepath_or_buffer\u001b[49m\u001b[43m,\u001b[49m\u001b[43m \u001b[49m\u001b[43mkwds\u001b[49m\u001b[43m)\u001b[49m\n",
      "File \u001b[0;32m~/sources/conda/envs/agi/lib/python3.11/site-packages/pandas/io/parsers/readers.py:620\u001b[0m, in \u001b[0;36m_read\u001b[0;34m(filepath_or_buffer, kwds)\u001b[0m\n\u001b[1;32m    617\u001b[0m _validate_names(kwds\u001b[38;5;241m.\u001b[39mget(\u001b[38;5;124m\"\u001b[39m\u001b[38;5;124mnames\u001b[39m\u001b[38;5;124m\"\u001b[39m, \u001b[38;5;28;01mNone\u001b[39;00m))\n\u001b[1;32m    619\u001b[0m \u001b[38;5;66;03m# Create the parser.\u001b[39;00m\n\u001b[0;32m--> 620\u001b[0m parser \u001b[38;5;241m=\u001b[39m \u001b[43mTextFileReader\u001b[49m\u001b[43m(\u001b[49m\u001b[43mfilepath_or_buffer\u001b[49m\u001b[43m,\u001b[49m\u001b[43m \u001b[49m\u001b[38;5;241;43m*\u001b[39;49m\u001b[38;5;241;43m*\u001b[39;49m\u001b[43mkwds\u001b[49m\u001b[43m)\u001b[49m\n\u001b[1;32m    622\u001b[0m \u001b[38;5;28;01mif\u001b[39;00m chunksize \u001b[38;5;129;01mor\u001b[39;00m iterator:\n\u001b[1;32m    623\u001b[0m     \u001b[38;5;28;01mreturn\u001b[39;00m parser\n",
      "File \u001b[0;32m~/sources/conda/envs/agi/lib/python3.11/site-packages/pandas/io/parsers/readers.py:1620\u001b[0m, in \u001b[0;36mTextFileReader.__init__\u001b[0;34m(self, f, engine, **kwds)\u001b[0m\n\u001b[1;32m   1617\u001b[0m     \u001b[38;5;28mself\u001b[39m\u001b[38;5;241m.\u001b[39moptions[\u001b[38;5;124m\"\u001b[39m\u001b[38;5;124mhas_index_names\u001b[39m\u001b[38;5;124m\"\u001b[39m] \u001b[38;5;241m=\u001b[39m kwds[\u001b[38;5;124m\"\u001b[39m\u001b[38;5;124mhas_index_names\u001b[39m\u001b[38;5;124m\"\u001b[39m]\n\u001b[1;32m   1619\u001b[0m \u001b[38;5;28mself\u001b[39m\u001b[38;5;241m.\u001b[39mhandles: IOHandles \u001b[38;5;241m|\u001b[39m \u001b[38;5;28;01mNone\u001b[39;00m \u001b[38;5;241m=\u001b[39m \u001b[38;5;28;01mNone\u001b[39;00m\n\u001b[0;32m-> 1620\u001b[0m \u001b[38;5;28mself\u001b[39m\u001b[38;5;241m.\u001b[39m_engine \u001b[38;5;241m=\u001b[39m \u001b[38;5;28;43mself\u001b[39;49m\u001b[38;5;241;43m.\u001b[39;49m\u001b[43m_make_engine\u001b[49m\u001b[43m(\u001b[49m\u001b[43mf\u001b[49m\u001b[43m,\u001b[49m\u001b[43m \u001b[49m\u001b[38;5;28;43mself\u001b[39;49m\u001b[38;5;241;43m.\u001b[39;49m\u001b[43mengine\u001b[49m\u001b[43m)\u001b[49m\n",
      "File \u001b[0;32m~/sources/conda/envs/agi/lib/python3.11/site-packages/pandas/io/parsers/readers.py:1880\u001b[0m, in \u001b[0;36mTextFileReader._make_engine\u001b[0;34m(self, f, engine)\u001b[0m\n\u001b[1;32m   1878\u001b[0m     \u001b[38;5;28;01mif\u001b[39;00m \u001b[38;5;124m\"\u001b[39m\u001b[38;5;124mb\u001b[39m\u001b[38;5;124m\"\u001b[39m \u001b[38;5;129;01mnot\u001b[39;00m \u001b[38;5;129;01min\u001b[39;00m mode:\n\u001b[1;32m   1879\u001b[0m         mode \u001b[38;5;241m+\u001b[39m\u001b[38;5;241m=\u001b[39m \u001b[38;5;124m\"\u001b[39m\u001b[38;5;124mb\u001b[39m\u001b[38;5;124m\"\u001b[39m\n\u001b[0;32m-> 1880\u001b[0m \u001b[38;5;28mself\u001b[39m\u001b[38;5;241m.\u001b[39mhandles \u001b[38;5;241m=\u001b[39m \u001b[43mget_handle\u001b[49m\u001b[43m(\u001b[49m\n\u001b[1;32m   1881\u001b[0m \u001b[43m    \u001b[49m\u001b[43mf\u001b[49m\u001b[43m,\u001b[49m\n\u001b[1;32m   1882\u001b[0m \u001b[43m    \u001b[49m\u001b[43mmode\u001b[49m\u001b[43m,\u001b[49m\n\u001b[1;32m   1883\u001b[0m \u001b[43m    \u001b[49m\u001b[43mencoding\u001b[49m\u001b[38;5;241;43m=\u001b[39;49m\u001b[38;5;28;43mself\u001b[39;49m\u001b[38;5;241;43m.\u001b[39;49m\u001b[43moptions\u001b[49m\u001b[38;5;241;43m.\u001b[39;49m\u001b[43mget\u001b[49m\u001b[43m(\u001b[49m\u001b[38;5;124;43m\"\u001b[39;49m\u001b[38;5;124;43mencoding\u001b[39;49m\u001b[38;5;124;43m\"\u001b[39;49m\u001b[43m,\u001b[49m\u001b[43m \u001b[49m\u001b[38;5;28;43;01mNone\u001b[39;49;00m\u001b[43m)\u001b[49m\u001b[43m,\u001b[49m\n\u001b[1;32m   1884\u001b[0m \u001b[43m    \u001b[49m\u001b[43mcompression\u001b[49m\u001b[38;5;241;43m=\u001b[39;49m\u001b[38;5;28;43mself\u001b[39;49m\u001b[38;5;241;43m.\u001b[39;49m\u001b[43moptions\u001b[49m\u001b[38;5;241;43m.\u001b[39;49m\u001b[43mget\u001b[49m\u001b[43m(\u001b[49m\u001b[38;5;124;43m\"\u001b[39;49m\u001b[38;5;124;43mcompression\u001b[39;49m\u001b[38;5;124;43m\"\u001b[39;49m\u001b[43m,\u001b[49m\u001b[43m \u001b[49m\u001b[38;5;28;43;01mNone\u001b[39;49;00m\u001b[43m)\u001b[49m\u001b[43m,\u001b[49m\n\u001b[1;32m   1885\u001b[0m \u001b[43m    \u001b[49m\u001b[43mmemory_map\u001b[49m\u001b[38;5;241;43m=\u001b[39;49m\u001b[38;5;28;43mself\u001b[39;49m\u001b[38;5;241;43m.\u001b[39;49m\u001b[43moptions\u001b[49m\u001b[38;5;241;43m.\u001b[39;49m\u001b[43mget\u001b[49m\u001b[43m(\u001b[49m\u001b[38;5;124;43m\"\u001b[39;49m\u001b[38;5;124;43mmemory_map\u001b[39;49m\u001b[38;5;124;43m\"\u001b[39;49m\u001b[43m,\u001b[49m\u001b[43m \u001b[49m\u001b[38;5;28;43;01mFalse\u001b[39;49;00m\u001b[43m)\u001b[49m\u001b[43m,\u001b[49m\n\u001b[1;32m   1886\u001b[0m \u001b[43m    \u001b[49m\u001b[43mis_text\u001b[49m\u001b[38;5;241;43m=\u001b[39;49m\u001b[43mis_text\u001b[49m\u001b[43m,\u001b[49m\n\u001b[1;32m   1887\u001b[0m \u001b[43m    \u001b[49m\u001b[43merrors\u001b[49m\u001b[38;5;241;43m=\u001b[39;49m\u001b[38;5;28;43mself\u001b[39;49m\u001b[38;5;241;43m.\u001b[39;49m\u001b[43moptions\u001b[49m\u001b[38;5;241;43m.\u001b[39;49m\u001b[43mget\u001b[49m\u001b[43m(\u001b[49m\u001b[38;5;124;43m\"\u001b[39;49m\u001b[38;5;124;43mencoding_errors\u001b[39;49m\u001b[38;5;124;43m\"\u001b[39;49m\u001b[43m,\u001b[49m\u001b[43m \u001b[49m\u001b[38;5;124;43m\"\u001b[39;49m\u001b[38;5;124;43mstrict\u001b[39;49m\u001b[38;5;124;43m\"\u001b[39;49m\u001b[43m)\u001b[49m\u001b[43m,\u001b[49m\n\u001b[1;32m   1888\u001b[0m \u001b[43m    \u001b[49m\u001b[43mstorage_options\u001b[49m\u001b[38;5;241;43m=\u001b[39;49m\u001b[38;5;28;43mself\u001b[39;49m\u001b[38;5;241;43m.\u001b[39;49m\u001b[43moptions\u001b[49m\u001b[38;5;241;43m.\u001b[39;49m\u001b[43mget\u001b[49m\u001b[43m(\u001b[49m\u001b[38;5;124;43m\"\u001b[39;49m\u001b[38;5;124;43mstorage_options\u001b[39;49m\u001b[38;5;124;43m\"\u001b[39;49m\u001b[43m,\u001b[49m\u001b[43m \u001b[49m\u001b[38;5;28;43;01mNone\u001b[39;49;00m\u001b[43m)\u001b[49m\u001b[43m,\u001b[49m\n\u001b[1;32m   1889\u001b[0m \u001b[43m\u001b[49m\u001b[43m)\u001b[49m\n\u001b[1;32m   1890\u001b[0m \u001b[38;5;28;01massert\u001b[39;00m \u001b[38;5;28mself\u001b[39m\u001b[38;5;241m.\u001b[39mhandles \u001b[38;5;129;01mis\u001b[39;00m \u001b[38;5;129;01mnot\u001b[39;00m \u001b[38;5;28;01mNone\u001b[39;00m\n\u001b[1;32m   1891\u001b[0m f \u001b[38;5;241m=\u001b[39m \u001b[38;5;28mself\u001b[39m\u001b[38;5;241m.\u001b[39mhandles\u001b[38;5;241m.\u001b[39mhandle\n",
      "File \u001b[0;32m~/sources/conda/envs/agi/lib/python3.11/site-packages/pandas/io/common.py:873\u001b[0m, in \u001b[0;36mget_handle\u001b[0;34m(path_or_buf, mode, encoding, compression, memory_map, is_text, errors, storage_options)\u001b[0m\n\u001b[1;32m    868\u001b[0m \u001b[38;5;28;01melif\u001b[39;00m \u001b[38;5;28misinstance\u001b[39m(handle, \u001b[38;5;28mstr\u001b[39m):\n\u001b[1;32m    869\u001b[0m     \u001b[38;5;66;03m# Check whether the filename is to be opened in binary mode.\u001b[39;00m\n\u001b[1;32m    870\u001b[0m     \u001b[38;5;66;03m# Binary mode does not support 'encoding' and 'newline'.\u001b[39;00m\n\u001b[1;32m    871\u001b[0m     \u001b[38;5;28;01mif\u001b[39;00m ioargs\u001b[38;5;241m.\u001b[39mencoding \u001b[38;5;129;01mand\u001b[39;00m \u001b[38;5;124m\"\u001b[39m\u001b[38;5;124mb\u001b[39m\u001b[38;5;124m\"\u001b[39m \u001b[38;5;129;01mnot\u001b[39;00m \u001b[38;5;129;01min\u001b[39;00m ioargs\u001b[38;5;241m.\u001b[39mmode:\n\u001b[1;32m    872\u001b[0m         \u001b[38;5;66;03m# Encoding\u001b[39;00m\n\u001b[0;32m--> 873\u001b[0m         handle \u001b[38;5;241m=\u001b[39m \u001b[38;5;28;43mopen\u001b[39;49m\u001b[43m(\u001b[49m\n\u001b[1;32m    874\u001b[0m \u001b[43m            \u001b[49m\u001b[43mhandle\u001b[49m\u001b[43m,\u001b[49m\n\u001b[1;32m    875\u001b[0m \u001b[43m            \u001b[49m\u001b[43mioargs\u001b[49m\u001b[38;5;241;43m.\u001b[39;49m\u001b[43mmode\u001b[49m\u001b[43m,\u001b[49m\n\u001b[1;32m    876\u001b[0m \u001b[43m            \u001b[49m\u001b[43mencoding\u001b[49m\u001b[38;5;241;43m=\u001b[39;49m\u001b[43mioargs\u001b[49m\u001b[38;5;241;43m.\u001b[39;49m\u001b[43mencoding\u001b[49m\u001b[43m,\u001b[49m\n\u001b[1;32m    877\u001b[0m \u001b[43m            \u001b[49m\u001b[43merrors\u001b[49m\u001b[38;5;241;43m=\u001b[39;49m\u001b[43merrors\u001b[49m\u001b[43m,\u001b[49m\n\u001b[1;32m    878\u001b[0m \u001b[43m            \u001b[49m\u001b[43mnewline\u001b[49m\u001b[38;5;241;43m=\u001b[39;49m\u001b[38;5;124;43m\"\u001b[39;49m\u001b[38;5;124;43m\"\u001b[39;49m\u001b[43m,\u001b[49m\n\u001b[1;32m    879\u001b[0m \u001b[43m        \u001b[49m\u001b[43m)\u001b[49m\n\u001b[1;32m    880\u001b[0m     \u001b[38;5;28;01melse\u001b[39;00m:\n\u001b[1;32m    881\u001b[0m         \u001b[38;5;66;03m# Binary mode\u001b[39;00m\n\u001b[1;32m    882\u001b[0m         handle \u001b[38;5;241m=\u001b[39m \u001b[38;5;28mopen\u001b[39m(handle, ioargs\u001b[38;5;241m.\u001b[39mmode)\n",
      "\u001b[0;31mFileNotFoundError\u001b[0m: [Errno 2] No such file or directory: 'results/dolos_report/pairs.csv'"
     ]
    }
   ],
   "source": [
    "csv_path = \"results/dolos_report/pairs.csv\"\n",
    "\n",
    "# Load the csv file\n",
    "import pandas as pd\n",
    "\n",
    "df = pd.read_csv(csv_path)\n",
    "\n",
    "import matplotlib.pyplot as plt\n",
    "\n",
    "# Plot the histogram and print statistics of df[\"similarity\"]\n",
    "\n",
    "print(df[\"similarity\"].describe())\n",
    "\n",
    "plt.hist(df[\"similarity\"], bins=20)\n",
    "plt.xlabel(\"Similarity\")\n",
    "plt.ylabel(\"Frequency\")\n",
    "plt.title(\"Similarity Distribution\")\n",
    "plt.show()\n"
   ]
  },
  {
   "cell_type": "code",
   "execution_count": null,
   "metadata": {},
   "outputs": [],
   "source": [
    "with open(\"gg_bench/data/valid_envs.json\") as f:\n",
    "    valid_envs_to_be_filtered = json.load(f)"
   ]
  },
  {
   "cell_type": "code",
   "execution_count": 8,
   "metadata": {},
   "outputs": [
    {
     "data": {
      "text/plain": [
       "651"
      ]
     },
     "execution_count": 8,
     "metadata": {},
     "output_type": "execute_result"
    }
   ],
   "source": [
    "len(valid_envs_to_be_filtered[\"valid_envs\"])"
   ]
  },
  {
   "cell_type": "code",
   "execution_count": 9,
   "metadata": {},
   "outputs": [
    {
     "data": {
      "text/plain": [
       "316"
      ]
     },
     "execution_count": 9,
     "metadata": {},
     "output_type": "execute_result"
    }
   ],
   "source": [
    "len(set(valid_envs_to_be_filtered[\"valid_envs\"]) & set(valid_envs))"
   ]
  },
  {
   "cell_type": "code",
   "execution_count": 7,
   "metadata": {},
   "outputs": [
    {
     "name": "stdout",
     "output_type": "stream",
     "text": [
      "2\n",
      "3\n",
      "6\n",
      "7\n",
      "8\n",
      "14\n",
      "16\n",
      "18\n",
      "25\n",
      "27\n",
      "28\n",
      "30\n",
      "32\n",
      "33\n",
      "34\n",
      "35\n",
      "37\n",
      "40\n",
      "43\n",
      "44\n",
      "48\n",
      "49\n",
      "60\n",
      "64\n",
      "66\n",
      "67\n",
      "68\n",
      "71\n",
      "73\n",
      "74\n",
      "79\n",
      "80\n",
      "81\n",
      "82\n",
      "84\n",
      "87\n",
      "94\n",
      "95\n",
      "100\n",
      "101\n",
      "102\n",
      "105\n",
      "108\n",
      "111\n",
      "114\n",
      "116\n",
      "117\n",
      "118\n",
      "123\n",
      "124\n",
      "127\n",
      "128\n",
      "129\n",
      "132\n",
      "135\n",
      "136\n",
      "137\n",
      "139\n",
      "141\n",
      "142\n",
      "143\n",
      "146\n",
      "149\n",
      "150\n",
      "151\n",
      "152\n",
      "153\n",
      "154\n",
      "155\n",
      "160\n",
      "162\n",
      "165\n",
      "167\n",
      "178\n",
      "180\n",
      "181\n",
      "192\n",
      "201\n",
      "205\n",
      "207\n",
      "208\n",
      "209\n",
      "210\n",
      "212\n",
      "213\n",
      "217\n",
      "218\n",
      "219\n",
      "221\n",
      "224\n",
      "226\n",
      "228\n",
      "234\n",
      "235\n",
      "237\n",
      "239\n",
      "241\n",
      "243\n",
      "250\n",
      "251\n",
      "257\n",
      "259\n",
      "260\n",
      "261\n",
      "262\n",
      "263\n",
      "264\n",
      "266\n",
      "267\n",
      "268\n",
      "272\n",
      "274\n",
      "277\n",
      "279\n",
      "281\n",
      "285\n",
      "288\n",
      "291\n",
      "293\n",
      "299\n",
      "303\n",
      "305\n",
      "307\n",
      "308\n",
      "310\n",
      "312\n",
      "313\n",
      "314\n",
      "317\n",
      "320\n",
      "324\n",
      "325\n",
      "327\n",
      "328\n",
      "330\n",
      "331\n",
      "333\n",
      "335\n",
      "343\n",
      "345\n",
      "346\n",
      "353\n",
      "354\n",
      "355\n",
      "356\n",
      "364\n",
      "365\n",
      "366\n",
      "369\n",
      "370\n",
      "371\n",
      "372\n",
      "373\n",
      "377\n",
      "380\n",
      "383\n",
      "385\n",
      "386\n",
      "387\n",
      "388\n",
      "389\n",
      "390\n",
      "392\n",
      "397\n",
      "402\n",
      "408\n",
      "409\n",
      "411\n",
      "415\n",
      "417\n",
      "418\n",
      "419\n",
      "422\n",
      "423\n",
      "424\n",
      "425\n",
      "426\n",
      "433\n",
      "434\n",
      "438\n",
      "441\n",
      "442\n",
      "445\n",
      "446\n",
      "447\n",
      "448\n",
      "451\n",
      "453\n",
      "455\n",
      "457\n",
      "461\n",
      "464\n",
      "474\n",
      "477\n",
      "479\n",
      "480\n",
      "482\n",
      "483\n",
      "486\n",
      "489\n",
      "491\n",
      "494\n",
      "496\n",
      "502\n",
      "503\n",
      "504\n",
      "508\n",
      "510\n",
      "512\n",
      "513\n",
      "517\n",
      "520\n",
      "523\n",
      "524\n",
      "526\n",
      "531\n",
      "533\n",
      "539\n",
      "545\n",
      "547\n",
      "548\n",
      "550\n",
      "551\n",
      "554\n",
      "555\n",
      "556\n",
      "557\n",
      "559\n",
      "564\n",
      "565\n",
      "567\n",
      "573\n",
      "576\n",
      "577\n",
      "579\n",
      "581\n",
      "582\n",
      "583\n",
      "584\n",
      "590\n",
      "593\n",
      "594\n",
      "597\n",
      "598\n",
      "599\n",
      "600\n",
      "603\n",
      "605\n",
      "606\n",
      "609\n",
      "610\n",
      "611\n",
      "612\n",
      "614\n",
      "615\n",
      "616\n",
      "618\n",
      "619\n",
      "624\n",
      "626\n",
      "631\n",
      "634\n",
      "635\n",
      "636\n",
      "638\n",
      "640\n",
      "643\n",
      "646\n",
      "650\n",
      "651\n",
      "652\n",
      "655\n",
      "656\n",
      "657\n",
      "659\n",
      "661\n",
      "663\n",
      "668\n",
      "670\n",
      "672\n",
      "676\n",
      "679\n",
      "683\n",
      "684\n",
      "686\n",
      "688\n",
      "690\n",
      "691\n",
      "694\n",
      "697\n",
      "699\n",
      "704\n",
      "705\n",
      "707\n",
      "712\n",
      "714\n",
      "717\n",
      "718\n",
      "721\n",
      "726\n",
      "732\n",
      "733\n",
      "735\n",
      "736\n",
      "738\n",
      "739\n",
      "742\n",
      "743\n",
      "744\n",
      "745\n",
      "750\n",
      "753\n",
      "755\n",
      "757\n",
      "758\n",
      "759\n",
      "765\n",
      "768\n",
      "769\n",
      "773\n",
      "777\n",
      "779\n",
      "781\n",
      "782\n",
      "788\n",
      "789\n",
      "790\n",
      "799\n",
      "800\n",
      "802\n",
      "804\n",
      "807\n",
      "809\n",
      "810\n",
      "811\n",
      "812\n",
      "813\n",
      "814\n",
      "815\n",
      "818\n",
      "823\n",
      "832\n",
      "834\n",
      "840\n",
      "844\n",
      "846\n",
      "847\n",
      "849\n",
      "851\n",
      "855\n",
      "857\n",
      "858\n",
      "859\n",
      "860\n",
      "876\n",
      "881\n",
      "882\n",
      "886\n",
      "888\n",
      "891\n",
      "892\n",
      "897\n",
      "899\n",
      "902\n",
      "903\n",
      "908\n",
      "909\n",
      "916\n",
      "918\n",
      "919\n",
      "920\n",
      "923\n",
      "924\n",
      "928\n",
      "929\n",
      "932\n",
      "935\n",
      "937\n",
      "939\n",
      "941\n",
      "943\n",
      "945\n",
      "946\n",
      "949\n",
      "952\n",
      "954\n",
      "955\n",
      "961\n",
      "962\n",
      "963\n",
      "965\n",
      "966\n",
      "969\n",
      "970\n",
      "971\n",
      "977\n",
      "980\n",
      "981\n",
      "982\n",
      "983\n",
      "985\n",
      "988\n",
      "990\n",
      "991\n",
      "992\n"
     ]
    }
   ],
   "source": [
    "for i in sorted(valid_envs):\n",
    "    print(i)"
   ]
  },
  {
   "cell_type": "code",
   "execution_count": null,
   "metadata": {},
   "outputs": [],
   "source": []
  },
  {
   "cell_type": "code",
   "execution_count": 1,
   "metadata": {},
   "outputs": [],
   "source": [
    "import json\n",
    "\n",
    "file_path = \"results/gpt-4o-mini_eval_20241117_203351.json\"\n",
    "\n",
    "def compute_statistics(\n",
    "    file_path: str,\n",
    "    successful_threshold: float = 0.75,\n",
    "    min_avg_turns: int = 4,\n",
    "    max_avg_turns: int = float(\"inf\"),\n",
    "):\n",
    "    with open(file_path, \"r\") as f:\n",
    "        data = json.load(f)\n",
    "\n",
    "    gpt_wins = agent_wins = draws = 0\n",
    "    gpt_faults = agent_faults = env_faults = 0\n",
    "    counter = 0\n",
    "\n",
    "    for game_idx in valid_envs:\n",
    "        game_idx = str(game_idx)\n",
    "        if game_idx not in data:\n",
    "            continue\n",
    "        stats = data[game_idx]\n",
    "        if not game_idx.isnumeric():\n",
    "            continue\n",
    "\n",
    "        # if (\n",
    "        #     stats[\"avg_turns_per_game\"] < min_avg_turns\n",
    "        #     or stats[\"avg_turns_per_game\"] > max_avg_turns\n",
    "        # ):\n",
    "        #     # gpt_faults += stats[\"gpt_faults\"]\n",
    "        #     # agent_faults += stats[\"agent_faults\"]\n",
    "        #     # env_faults += stats[\"env_faults\"]\n",
    "        #     continue\n",
    "\n",
    "        # successful = stats[\"gpt_wins\"] + stats[\"agent_wins\"] + stats[\"draws\"]\n",
    "        # if successful < successful_threshold * stats[\"total_games\"]:\n",
    "        #     # gpt_faults += stats[\"gpt_faults\"]\n",
    "        #     # agent_faults += stats[\"agent_faults\"]\n",
    "        #     # env_faults += stats[\"env_faults\"]\n",
    "        #     continue\n",
    "\n",
    "        gpt_wins += stats[\"gpt_wins\"]\n",
    "        agent_wins += stats[\"agent_wins\"]\n",
    "        draws += stats[\"draws\"]\n",
    "        counter += 1\n",
    "        \n",
    "        gpt_faults += stats[\"gpt_faults\"]\n",
    "        agent_faults += stats[\"agent_faults\"]\n",
    "        env_faults += stats[\"env_faults\"]\n",
    " \n",
    "\n",
    "    gpt_win_rate = (gpt_wins) / (gpt_wins + agent_wins + draws) if (gpt_wins + agent_wins + draws) > 0 else 0\n",
    "\n",
    "    print(f\"GPT Wins: {gpt_wins}\")\n",
    "    print(f\"Agent Wins: {agent_wins}\")\n",
    "    print(f\"Draws: {draws}\")\n",
    "    print(f\"Total Trajectories: {gpt_wins + agent_wins + draws}\")\n",
    "    print(f\"Total Games: {counter}\")\n",
    "    print(f\"GPT Win Rate: {gpt_win_rate:.2%}\")\n",
    "    print(f\"GPT Faults: {gpt_faults}\")\n",
    "    print(f\"Agent Faults: {agent_faults}\")\n",
    "    print(f\"Env Faults: {env_faults}\")"
   ]
  },
  {
   "cell_type": "code",
   "execution_count": null,
   "metadata": {},
   "outputs": [],
   "source": [
    "import json\n",
    "\n",
    "with open(\"gg_bench/data/splits/valid_envs.json\") as f:\n",
    "    valid_envs = json.load(f)\n",
    "\n",
    "with open(\"gg_bench/data/splits/filtering.json\") as f:\n",
    "    filtering = json.load(f)\n",
    "\n",
    "filtering[\"envs_failed_timeout_filtering\"] = sorted(\n",
    "    list(set(filtering[\"valid_envs\"]) - set(valid_envs))\n",
    ")\n",
    "filtering[\"valid_envs\"] = list(\n",
    "    set(range(1, 1001))\n",
    "    - set(filtering[\"envs_failed_timeout_filtering\"])\n",
    "    - set(filtering[\"envs_failed_execution_filtering\"])\n",
    ")\n",
    "\n",
    "with open(\"gg_bench/data/splits/filtering.json\", \"w\") as f:\n",
    "    json.dump(filtering, f)"
   ]
  },
  {
   "cell_type": "code",
   "execution_count": null,
   "metadata": {},
   "outputs": [],
   "source": [
    "import json\n",
    "\n",
    "with open(\"gg_bench/data/splits/filtering.json\") as f:\n",
    "    filtering = json.load(f)\n",
    "\n",
    "assert (\n",
    "    len(\n",
    "        filtering[\"valid_envs\"]\n",
    "        + filtering[\"envs_failed_timeout_filtering\"]\n",
    "        + filtering[\"envs_failed_execution_filtering\"]\n",
    "    )\n",
    "    == 1000\n",
    ")"
   ]
  },
  {
   "cell_type": "code",
   "execution_count": 12,
   "metadata": {},
   "outputs": [
    {
     "name": "stdout",
     "output_type": "stream",
     "text": [
      "405 651 349\n"
     ]
    }
   ],
   "source": [
    "print(len(valid_envs), len(filtering[\"valid_envs\"]), len(filtering[\"envs_failed_execution_filtering\"]))"
   ]
  },
  {
   "cell_type": "code",
   "execution_count": 14,
   "metadata": {},
   "outputs": [
    {
     "name": "stdout",
     "output_type": "stream",
     "text": [
      "89\n"
     ]
    }
   ],
   "source": [
    "print(len(set(valid_envs) - set(filtering[\"valid_envs\"])))"
   ]
  },
  {
   "cell_type": "code",
   "execution_count": 16,
   "metadata": {},
   "outputs": [
    {
     "name": "stdout",
     "output_type": "stream",
     "text": [
      "316\n"
     ]
    }
   ],
   "source": [
    "print(len(set(valid_envs) & set(filtering[\"valid_envs\"])))"
   ]
  },
  {
   "cell_type": "code",
   "execution_count": null,
   "metadata": {},
   "outputs": [
    {
     "name": "stdout",
     "output_type": "stream",
     "text": [
      "0.20.0\n"
     ]
    }
   ],
   "source": [
    "from sbx import PPO\n",
    "import sbx\n",
    "\n",
    "# '0.15.0'\n",
    "print(sbx.__version__)\n",
    "\n",
    "# agent = PPO.load(f\"gg_bench/data/models/env_272/agent_250000\", device=\"cpu\")"
   ]
  },
  {
   "cell_type": "code",
   "execution_count": null,
   "metadata": {},
   "outputs": [],
   "source": [
    "agent = PPO.load(f\"gg_bench/data/models/env_272/agent_250000\", print_system_info=True)"
   ]
  },
  {
   "cell_type": "code",
   "execution_count": null,
   "metadata": {},
   "outputs": [
    {
     "ename": "NameError",
     "evalue": "name 'PPO' is not defined",
     "output_type": "error",
     "traceback": [
      "\u001b[0;31m---------------------------------------------------------------------------\u001b[0m",
      "\u001b[0;31mNameError\u001b[0m                                 Traceback (most recent call last)",
      "Cell \u001b[0;32mIn[1], line 1\u001b[0m\n\u001b[0;32m----> 1\u001b[0m agent \u001b[38;5;241m=\u001b[39m \u001b[43mPPO\u001b[49m\u001b[38;5;241m.\u001b[39mload(\u001b[38;5;124mf\u001b[39m\u001b[38;5;124m\"\u001b[39m\u001b[38;5;124mgamebench/data/models/env_272/agent_250000\u001b[39m\u001b[38;5;124m\"\u001b[39m, print_system_info\u001b[38;5;241m=\u001b[39m\u001b[38;5;28;01mTrue\u001b[39;00m)\n",
      "\u001b[0;31mNameError\u001b[0m: name 'PPO' is not defined"
     ]
    }
   ],
   "source": [
    "agent = PPO.load(f\"gg_bench/data/models/env_272/agent_250000\", print_system_info=True)"
   ]
  },
  {
   "cell_type": "code",
   "execution_count": 1,
   "metadata": {},
   "outputs": [],
   "source": [
    "import json\n",
    "\n",
    "file1 = \"results/gpt-4o_eval_20250305_232011.json\"\n",
    "file2 = \"results/gpt-4o-mini_eval_20250304_204004.json\"\n",
    "\n",
    "with open(file1, \"r\") as f:\n",
    "    data1 = json.load(f)\n",
    "\n",
    "with open(file2, \"r\") as f:\n",
    "    data2 = json.load(f)"
   ]
  },
  {
   "cell_type": "code",
   "execution_count": 3,
   "metadata": {},
   "outputs": [
    {
     "data": {
      "text/plain": [
       "True"
      ]
     },
     "execution_count": 3,
     "metadata": {},
     "output_type": "execute_result"
    }
   ],
   "source": [
    "set(data1.keys()) & set(data2.keys()) == set(data1.keys())"
   ]
  },
  {
   "cell_type": "code",
   "execution_count": null,
   "metadata": {},
   "outputs": [
    {
     "name": "stdout",
     "output_type": "stream",
     "text": [
      "127\n",
      "127\n",
      "127\n",
      "0\n",
      "set()\n"
     ]
    }
   ],
   "source": [
    "import json\n",
    "\n",
    "file = \"results/gpt-4o_eval_20250305_232011.json\"\n",
    "valid_envs_file = \"gg_bench/data/splits/valid_envs.json\"\n",
    "\n",
    "with open(file, \"r\") as f:\n",
    "    data1 = json.load(f)\n",
    "\n",
    "with open(valid_envs_file, \"r\") as f:\n",
    "    data2 = json.load(f)\n",
    "\n",
    "envs = []\n",
    "for key in data1:\n",
    "    if key.isnumeric():\n",
    "        envs.append(int(key))\n",
    "    \n",
    "valid_envs = [int(i[0]) for i in data2]\n",
    "\n",
    "assert set(envs) == set(valid_envs)\n",
    "\n",
    "# print(len(envs))\n",
    "# print(len(valid_envs))\n",
    "\n",
    "# print(len(set(envs) & set(valid_envs)))\n",
    "# print(len(set(valid_envs) - set(envs)))\n",
    "# print(set(valid_envs) - set(envs))"
   ]
  },
  {
   "cell_type": "code",
   "execution_count": null,
   "metadata": {},
   "outputs": [
    {
     "name": "stdout",
     "output_type": "stream",
     "text": [
      "[gpt-4o] ✔︎ all envs present\n",
      "[gpt-4o-mini] ✔︎ all envs present\n",
      "[o1] ✔︎ all envs present\n",
      "[o3-mini] env mismatch:\n",
      "  • missing in results: [124]\n",
      "[claude-3.7-sonnet] env mismatch:\n",
      "  • missing in results: [876]\n",
      "  • not in valid list:  [279]\n",
      "[llama3.3-70b] ✔︎ all envs present\n",
      "[deepseek-r1] ✔︎ all envs present\n"
     ]
    }
   ],
   "source": [
    "import json\n",
    "from pathlib import Path\n",
    "\n",
    "MODEL_EVAL_FILES = {\n",
    "    \"gpt-4o\":               \"results/gpt-4o_eval_20250305_232011.json\",\n",
    "    \"gpt-4o-mini\":          \"results/gpt-4o-mini_eval_20250304_204004.json\",\n",
    "    \"o1\":                   \"results/o1_eval_20250422_061810.json\",\n",
    "    \"o3-mini\":              \"results/o3-mini_eval_20250307_021443.json\",\n",
    "    \"claude-3.7-sonnet\":    \"results/claude-3.7-sonnet_eval_20250307_021235.json\",\n",
    "    \"llama3.3-70b\":         \"results/llama3.3-70b_eval_20250323_223649.json\",\n",
    "    \"deepseek-r1\":          \"results/deepseek-reasoner_eval_20250326_041314.json\",\n",
    "}\n",
    "\n",
    "VALID_ENVS_FILE = \"gg_bench/data/splits/valid_envs.json\"\n",
    "\n",
    "# ----------------------------------------------------------------------\n",
    "# Load the reference list of valid env IDs once\n",
    "# ----------------------------------------------------------------------\n",
    "with open(VALID_ENVS_FILE, \"r\") as f:\n",
    "    valid_envs = {int(pair[0]) for pair in json.load(f)}\n",
    "# ----------------------------------------------------------------------\n",
    "\n",
    "for model, path in MODEL_EVAL_FILES.items():\n",
    "    # Skip files that don't exist to avoid breaking the loop\n",
    "    if not Path(path).exists():\n",
    "        print(f\"[{model}] evaluation file not found: {path}\")\n",
    "        continue\n",
    "\n",
    "    with open(path, \"r\") as f:\n",
    "        data = json.load(f)\n",
    "\n",
    "    # Extract numeric env IDs present in this result file\n",
    "    envs_in_file = {int(k) for k in data if k.isnumeric()}\n",
    "\n",
    "    if envs_in_file != valid_envs:\n",
    "        missing = sorted(valid_envs - envs_in_file)   # expected but absent\n",
    "        extra   = sorted(envs_in_file - valid_envs)   # unexpected extras\n",
    "\n",
    "        print(f\"[{model}] env mismatch:\")\n",
    "        if missing:\n",
    "            print(f\"  • missing in results: {missing}\")\n",
    "        if extra:\n",
    "            print(f\"  • not in valid list:  {extra}\")\n",
    "    else:\n",
    "        print(f\"[{model}] ✔︎ all envs present\")\n"
   ]
  },
  {
   "cell_type": "code",
   "execution_count": null,
   "metadata": {},
   "outputs": [
    {
     "name": "stdout",
     "output_type": "stream",
     "text": [
      "Highest similarity per file (n = 127)\n",
      "\n",
      "count    127.000000\n",
      "mean       0.435690\n",
      "std        0.118264\n",
      "min        0.222222\n",
      "25%        0.350515\n",
      "50%        0.408000\n",
      "75%        0.536443\n",
      "max        0.836158\n",
      "Name: similarity, dtype: float64\n",
      "\n",
      "Variance : 0.013986\n",
      "Skewness : 0.746458\n",
      "Kurtosis : 0.518334\n"
     ]
    },
    {
     "data": {
      "image/png": "[encoded data removed]",
      "text/plain": [
       "<Figure size 1800x1200 with 1 Axes>"
      ]
     },
     "metadata": {},
     "output_type": "display_data"
    }
   ],
   "source": [
    "import json\n",
    "from pathlib import Path\n",
    "\n",
    "import matplotlib.pyplot as plt\n",
    "import numpy as np\n",
    "import pandas as pd\n",
    "\n",
    "# ---------------------------------------------------------------------\n",
    "# 1. load the reference list of valid env IDs\n",
    "# ---------------------------------------------------------------------\n",
    "with open(\"gg_bench/data/splits/valid_envs.json\") as f:\n",
    "    valid_envs = {int(pair[0]) for pair in json.load(f)}        # set for O(1) lookup\n",
    "\n",
    "# ---------------------------------------------------------------------\n",
    "# 2. read the pair-similarity data\n",
    "# ---------------------------------------------------------------------\n",
    "PATH = \"dolos-report-20250423T045200208Z-env272py--env154py/pairs.csv\"\n",
    "pairs = pd.read_csv(PATH)\n",
    "\n",
    "# helper to turn \".../env_272.py\" → 272\n",
    "def env_id(path: str) -> int:\n",
    "    return int(Path(path).stem.split(\"_\")[1])\n",
    "\n",
    "# validate *both* columns\n",
    "for col in (\"leftFilePath\", \"rightFilePath\"):\n",
    "    assert all(env_id(p) in valid_envs for p in pairs[col]), f\"Bad paths in {col}\"\n",
    "\n",
    "# ---------------------------------------------------------------------\n",
    "# 3. reshape → one (fileId, similarity) per row\n",
    "# ---------------------------------------------------------------------\n",
    "left  = pairs[[\"leftFileId\",  \"similarity\"]].rename(columns={\"leftFileId\":  \"fileId\"})\n",
    "right = pairs[[\"rightFileId\", \"similarity\"]].rename(columns={\"rightFileId\": \"fileId\"})\n",
    "stacked = pd.concat([left, right], ignore_index=True)\n",
    "\n",
    "# ---------------------------------------------------------------------\n",
    "# 4. keep the *highest* similarity for each file\n",
    "# ---------------------------------------------------------------------\n",
    "best_per_file = stacked.groupby(\"fileId\")[\"similarity\"].max().sort_index()\n",
    "n_files = len(best_per_file)\n",
    "assert n_files == len(valid_envs), f\"Expected {len(valid_envs)} distinct files, got {n_files}\"\n",
    "\n",
    "# ---------------------------------------------------------------------\n",
    "# 5. summary statistics\n",
    "# ---------------------------------------------------------------------\n",
    "print(f\"Highest similarity per file (n = {n_files})\\n\")\n",
    "print(best_per_file.describe())\n",
    "print(f\"\\nVariance : {best_per_file.var():.6f}\")\n",
    "print(f\"Skewness : {best_per_file.skew():.6f}\")\n",
    "print(f\"Kurtosis : {best_per_file.kurt():.6f}\")\n",
    "\n",
    "# ---------------------------------------------------------------------\n",
    "# 6. histogram (publication-ready)\n",
    "#    – Freedman–Diaconis bin width, clipped to 10–60 bins\n",
    "# ---------------------------------------------------------------------\n",
    "data = best_per_file.to_numpy()\n",
    "q25, q75 = np.percentile(data, [25, 75])\n",
    "iqr = q75 - q25\n",
    "fd_width = 2 * iqr / (len(data) ** (1 / 3))\n",
    "bins = int(round((data.max() - data.min()) / fd_width)) if fd_width else 30\n",
    "bins = max(10, min(bins, 60))  # sensible bounds\n",
    "\n",
    "fig, ax = plt.subplots(figsize=(6, 4), dpi=300)\n",
    "ax.hist(data, bins=bins, edgecolor=\"black\", color=\"#30bcfc\")\n",
    "ax.set_title(f\"Histogram of Highest Similarity per File (n = {n_files})\", pad=10)\n",
    "ax.set_xlabel(\"Highest similarity score\")\n",
    "ax.set_ylabel(\"Number of files\")\n",
    "ax.grid(alpha=0.3, linestyle=\"--\", linewidth=0.5)\n",
    "fig.tight_layout()\n",
    "\n",
    "# save a vector PDF for the paper\n",
    "fig.savefig(\"docs/figures/highest_similarity_histogram.pdf\")\n",
    "plt.show()"
   ]
  },
  {
   "cell_type": "code",
   "execution_count": null,
   "metadata": {},
   "outputs": [],
   "source": []
  }
 ],
 "metadata": {
  "kernelspec": {
   "display_name": "agi",
   "language": "python",
   "name": "python3"
  },
  "language_info": {
   "codemirror_mode": {
    "name": "ipython",
    "version": 3
   },
   "file_extension": ".py",
   "mimetype": "text/x-python",
   "name": "python",
   "nbconvert_exporter": "python",
   "pygments_lexer": "ipython3",
   "version": "3.11.9"
  }
 },
 "nbformat": 4,
 "nbformat_minor": 2
}
